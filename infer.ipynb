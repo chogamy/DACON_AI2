{
 "cells": [
  {
   "cell_type": "code",
   "execution_count": 1,
   "metadata": {},
   "outputs": [],
   "source": [
    "import os\n",
    "\n",
    "DIR = os.getcwd()"
   ]
  },
  {
   "cell_type": "code",
   "execution_count": null,
   "metadata": {},
   "outputs": [],
   "source": [
    "from transformers import AutoTokenizer, AutoModelForCausalLM\n",
    "from peft import PeftConfig, PeftModel\n",
    "\n",
    "model_card = \"maywell/Synatra-42dot-1.3B\"\n",
    "\n",
    "config = PeftConfig.from_pretrained('output_dir')\n",
    "model = AutoModelForCausalLM.from_pretrained(model_card)\n",
    "tokenizer = AutoTokenizer.from_pretrained(model_card)\n",
    "model = PeftModel.from_pretrained(model, 'output_dir')"
   ]
  },
  {
   "cell_type": "code",
   "execution_count": 6,
   "metadata": {},
   "outputs": [
    {
     "name": "stdout",
     "output_type": "stream",
     "text": [
      "DatasetDict({\n",
      "    test: Dataset({\n",
      "        features: ['text'],\n",
      "        num_rows: 130\n",
      "    })\n",
      "})\n",
      "['질문: 방청 페인트의 종류에는 어떤 것들이 있는지 알고 계신가요? 또한, 원목사이딩을 사용하는 것에 어떤 단점이 있을까요? 답변: ',\n",
      " '질문: 도배지에 녹은 자국이 발생하는 주된 원인과 그 해결 방법은 무엇인가요? 답변: ',\n",
      " '질문: 큐블럭의 단점을 알려주세요. 또한, 압출법 단열판을 사용하는 것의 장점은 무엇인가요? 답변: ',\n",
      " '질문: 철골구조를 사용하는 고층 건물에서, 단열 효과를 높이기 위한 시공 방법은 무엇이 있을까요? 답변: ',\n",
      " '질문: 도배지의 완전한 건조를 위해 몇 주 동안 기다려야 하나요? 답변: ']\n"
     ]
    }
   ],
   "source": [
    "from datasets import load_dataset\n",
    "\n",
    "test_dataset = load_dataset('text', data_files={'test': os.path.join(DIR, 'data', 'test.txt')})\n",
    "\n",
    "print(test_dataset)\n",
    "from pprint import pprint\n",
    "pprint(test_dataset['test']['text'][:5])"
   ]
  },
  {
   "cell_type": "code",
   "execution_count": 34,
   "metadata": {},
   "outputs": [],
   "source": [
    "import torch\n",
    "model.eval()\n",
    "\n",
    "\n",
    "with open(\"./output.txt\", 'w') as f:\n",
    "    with torch.no_grad():\n",
    "        for line in test_dataset['test']['text']:\n",
    "            inputs = tokenizer(line.strip(), return_tensors='pt')\n",
    "            outputs = model.generate(input_ids=inputs['input_ids'], max_new_tokens=10)    \n",
    "            \n",
    "            outputs = tokenizer.batch_decode(outputs.detach().cpu().numpy(), skip_special_tokens=True)\n",
    "            \n",
    "            q, a = outputs[0].split(\"답변: \", 1)\n",
    "            \n",
    "            f.write(f\"{a}\\n\")\n",
    "            "
   ]
  },
  {
   "cell_type": "code",
   "execution_count": null,
   "metadata": {},
   "outputs": [],
   "source": []
  }
 ],
 "metadata": {
  "kernelspec": {
   "display_name": "base",
   "language": "python",
   "name": "python3"
  },
  "language_info": {
   "codemirror_mode": {
    "name": "ipython",
    "version": 3
   },
   "file_extension": ".py",
   "mimetype": "text/x-python",
   "name": "python",
   "nbconvert_exporter": "python",
   "pygments_lexer": "ipython3",
   "version": "3.10.13"
  }
 },
 "nbformat": 4,
 "nbformat_minor": 2
}
