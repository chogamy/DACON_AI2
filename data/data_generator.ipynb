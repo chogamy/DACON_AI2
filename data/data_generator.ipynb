{
 "cells": [
  {
   "cell_type": "code",
   "execution_count": 8,
   "metadata": {},
   "outputs": [
    {
     "data": {
      "text/plain": [
       "'c:\\\\Users\\\\gamy0\\\\Desktop\\\\DACON_AI2\\\\data'"
      ]
     },
     "execution_count": 8,
     "metadata": {},
     "output_type": "execute_result"
    }
   ],
   "source": [
    "import os\n",
    "\n",
    "DIR = os.getcwd()\n",
    "\n",
    "DIR"
   ]
  },
  {
   "cell_type": "code",
   "execution_count": 9,
   "metadata": {},
   "outputs": [],
   "source": [
    "import pandas as pd\n",
    "\n",
    "train_dataset = pd.read_csv(os.path.join(DIR, 'train.csv'))\n",
    "test_dataset = pd.read_csv(os.path.join(DIR, 'test.csv'))"
   ]
  },
  {
   "cell_type": "code",
   "execution_count": 10,
   "metadata": {},
   "outputs": [
    {
     "name": "stdout",
     "output_type": "stream",
     "text": [
      "train stat~~~~~~~~~~~~~~~~\n",
      "질문_1\n",
      "최대 :  51\n",
      "최소 :  6\n",
      "평균 :  19.187888198757765\n",
      "===============================\n",
      "질문_2\n",
      "최대 :  86\n",
      "최소 :  10\n",
      "평균 :  28.653726708074533\n",
      "===============================\n",
      "답변_1\n",
      "최대 :  1223\n",
      "최소 :  17\n",
      "평균 :  95.73136645962732\n",
      "===============================\n",
      "답변_2\n",
      "최대 :  831\n",
      "최소 :  67\n",
      "평균 :  194.50465838509317\n",
      "===============================\n",
      "답변_3\n",
      "최대 :  690\n",
      "최소 :  45\n",
      "평균 :  194.60714285714286\n",
      "===============================\n",
      "답변_4\n",
      "최대 :  785\n",
      "최소 :  26\n",
      "평균 :  196.9673913043478\n",
      "===============================\n",
      "답변_5\n",
      "최대 :  719\n",
      "최소 :  54\n",
      "평균 :  195.38509316770185\n",
      "===============================\n",
      "test stat~~~~~~~~~~~~~~~~\n",
      "최대 :  88\n",
      "최소 :  19\n",
      "평균 :  52.6\n",
      "===============================\n"
     ]
    }
   ],
   "source": [
    "## stat\n",
    "\n",
    "print('train stat~~~~~~~~~~~~~~~~')\n",
    "keys = ['질문_1', '질문_2', '답변_1', '답변_2', '답변_3', '답변_4', '답변_5']\n",
    "\n",
    "for key in keys:\n",
    "    lengths = []\n",
    "    for item in train_dataset[key]:\n",
    "        lengths.append(len(item))\n",
    "    print(key)\n",
    "    print('최대 : ', max(lengths))\n",
    "    print('최소 : ', min(lengths))\n",
    "    print('평균 : ', sum(lengths) / len(lengths))\n",
    "    print(\"===============================\")\n",
    "\n",
    "\n",
    "print('test stat~~~~~~~~~~~~~~~~')\n",
    "\n",
    "lengths = []\n",
    "for item in test_dataset['질문']:\n",
    "    lengths.append(len(item))\n",
    "print('최대 : ', max(lengths))\n",
    "print('최소 : ', min(lengths))\n",
    "print('평균 : ', sum(lengths) / len(lengths))\n",
    "print(\"===============================\")\n",
    "\n",
    "\n"
   ]
  },
  {
   "cell_type": "code",
   "execution_count": 11,
   "metadata": {},
   "outputs": [],
   "source": [
    "# train set ########################################\n",
    "prompts = []\n",
    "for q_id in range(1,3):\n",
    "    for a_id in range(1,6):\n",
    "        for src, tgt in zip(train_dataset[f'질문_{q_id}'], train_dataset[f'답변_{a_id}']):\n",
    "            src = src.replace('\"', '')\n",
    "            src = src.replace(\"\\n\", \"\")\n",
    "            tgt = tgt.replace('\"', '')\n",
    "            tgt = tgt.replace(\"\\n\", \"\")\n",
    "            prompts.append(f\"질문: {src} 답변: {tgt}\")\n",
    "\n",
    "with open(os.path.join(DIR, 'train.txt'), encoding=\"UTF-8\", mode='w') as f:\n",
    "    for prompt in prompts:\n",
    "        f.write(f\"{prompt}\\n\")\n",
    "\n",
    "# test set ########################################\n",
    "prompts = []\n",
    "for text in test_dataset['질문']:\n",
    "    text = text.replace('\"', ' ')\n",
    "    prompts.append(f\"질문: {text} 답변: \")\n",
    "\n",
    "with open(os.path.join(DIR, 'test.txt'), encoding=\"UTF-8\", mode='w') as f:\n",
    "    for prompt in prompts:\n",
    "        f.write(f\"{prompt}\\n\")\n"
   ]
  },
  {
   "cell_type": "code",
   "execution_count": 12,
   "metadata": {},
   "outputs": [],
   "source": [
    "import random\n",
    "from itertools import combinations\n",
    "\n",
    "conjuctions = ['그리고', '또한', '그리고,', '또한,']\n",
    "\n",
    "# multi QA train set\n",
    "prompts = []\n",
    "for q_id in range(1,3):\n",
    "    for a_id in range(1,6):\n",
    "        for src, tgt in zip(train_dataset[f'질문_{q_id}'], train_dataset[f'답변_{a_id}']):\n",
    "            src = src.replace('\"', '')\n",
    "            src = src.replace(\"\\n\", \"\")\n",
    "            tgt = tgt.replace('\"', '')\n",
    "            tgt = tgt.replace(\"\\n\", \"\")\n",
    "            prompts.append({'q':src, 'a':tgt})\n",
    "\n",
    "comb_list = list(combinations(range(len(prompts)), 2))\n",
    "comb_list = random.sample(comb_list, 100_000)\n",
    "\n",
    "\n",
    "with open(os.path.join(DIR, 'multi_train.txt'), encoding=\"UTF-8\", mode='w') as f:\n",
    "    for i, j in comb_list:\n",
    "        conjuction1 = random.choice(conjuctions)\n",
    "        conjuction2 = random.choice(conjuctions)\n",
    "        prompt = f\"질문: {prompts[i]['q']} {conjuction1} {prompts[j]['q']} 답변: {prompts[i]['a']} {conjuction2} {prompts[j]['a']}\"\n",
    "        f.write(f\"{prompt}\\n\")\n",
    "\n",
    "        \n",
    "\n",
    "         \n"
   ]
  },
  {
   "cell_type": "code",
   "execution_count": null,
   "metadata": {},
   "outputs": [],
   "source": []
  }
 ],
 "metadata": {
  "kernelspec": {
   "display_name": "base",
   "language": "python",
   "name": "python3"
  },
  "language_info": {
   "codemirror_mode": {
    "name": "ipython",
    "version": 3
   },
   "file_extension": ".py",
   "mimetype": "text/x-python",
   "name": "python",
   "nbconvert_exporter": "python",
   "pygments_lexer": "ipython3",
   "version": "3.10.0"
  }
 },
 "nbformat": 4,
 "nbformat_minor": 2
}
