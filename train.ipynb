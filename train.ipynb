{
 "cells": [
  {
   "cell_type": "code",
   "execution_count": null,
   "metadata": {},
   "outputs": [],
   "source": [
    "import os\n",
    "\n",
    "DIR = os.getcwd()"
   ]
  },
  {
   "cell_type": "code",
   "execution_count": 1,
   "metadata": {},
   "outputs": [
    {
     "name": "stderr",
     "output_type": "stream",
     "text": [
      "/opt/conda/lib/python3.10/site-packages/tqdm/auto.py:21: TqdmWarning: IProgress not found. Please update jupyter and ipywidgets. See https://ipywidgets.readthedocs.io/en/stable/user_install.html\n",
      "  from .autonotebook import tqdm as notebook_tqdm\n",
      "config.json: 100%|██████████| 734/734 [00:00<00:00, 3.13MB/s]\n",
      "model.safetensors: 100%|██████████| 2.88G/2.88G [00:59<00:00, 48.7MB/s]\n",
      "generation_config.json: 100%|██████████| 144/144 [00:00<00:00, 1.15MB/s]\n",
      "tokenizer_config.json: 100%|██████████| 9.97k/9.97k [00:00<00:00, 36.2MB/s]\n",
      "vocab.json: 100%|██████████| 870k/870k [00:00<00:00, 20.5MB/s]\n",
      "merges.txt: 100%|██████████| 529k/529k [00:00<00:00, 68.8MB/s]\n",
      "tokenizer.json: 100%|██████████| 2.26M/2.26M [00:00<00:00, 3.12MB/s]\n",
      "added_tokens.json: 100%|██████████| 1.27k/1.27k [00:00<00:00, 13.5MB/s]\n",
      "special_tokens_map.json: 100%|██████████| 1.57k/1.57k [00:00<00:00, 16.7MB/s]\n",
      "Special tokens have been added in the vocabulary, make sure the associated word embeddings are fine-tuned or trained.\n"
     ]
    }
   ],
   "source": [
    "from transformers import AutoTokenizer, AutoModelForCausalLM\n",
    "\n",
    "# model_list = ['maywell/Synatra-42dot-1.3B', '42dot/42dot_LLM-SFT-1.3B', 'beomi/KoRWKV-1.5B', 'cocoirun/AIFT-42dot-PLM-1.3B-ao-instruct-all-v0.4-ff-e1', '42dot/42dot_LLM-PLM-1.3B']\n",
    "\n",
    "model_card = \"maywell/Synatra-42dot-1.3B\"\n",
    "\n",
    "model = AutoModelForCausalLM.from_pretrained(model_card)\n",
    "tokenizer = AutoTokenizer.from_pretrained(model_card)"
   ]
  },
  {
   "cell_type": "code",
   "execution_count": null,
   "metadata": {},
   "outputs": [],
   "source": []
  }
 ],
 "metadata": {
  "kernelspec": {
   "display_name": "base",
   "language": "python",
   "name": "python3"
  },
  "language_info": {
   "codemirror_mode": {
    "name": "ipython",
    "version": 3
   },
   "file_extension": ".py",
   "mimetype": "text/x-python",
   "name": "python",
   "nbconvert_exporter": "python",
   "pygments_lexer": "ipython3",
   "version": "3.10.13"
  }
 },
 "nbformat": 4,
 "nbformat_minor": 2
}
