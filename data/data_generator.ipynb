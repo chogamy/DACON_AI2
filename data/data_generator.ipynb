{
 "cells": [
  {
   "cell_type": "code",
   "execution_count": 3,
   "metadata": {},
   "outputs": [
    {
     "data": {
      "text/plain": [
       "'/root/DACON_AI2/data'"
      ]
     },
     "execution_count": 3,
     "metadata": {},
     "output_type": "execute_result"
    }
   ],
   "source": [
    "import os\n",
    "\n",
    "DIR = os.getcwd()\n",
    "\n",
    "DIR\n"
   ]
  },
  {
   "cell_type": "code",
   "execution_count": 4,
   "metadata": {},
   "outputs": [],
   "source": [
    "import pandas as pd\n",
    "\n",
    "train_dataset = pd.read_csv(os.path.join(DIR, 'train.csv'))\n",
    "test_dataset = pd.read_csv(os.path.join(DIR, 'test.csv'))"
   ]
  },
  {
   "cell_type": "code",
   "execution_count": 6,
   "metadata": {},
   "outputs": [],
   "source": [
    "# train ########################################\n",
    "prompts = []\n",
    "for q_id in range(1,3):\n",
    "    for a_id in range(1,6):\n",
    "        for src, tgt in zip(train_dataset[f'질문_{q_id}'], train_dataset[f'답변_{a_id}']):\n",
    "            prompts.append(f\"질문: {src} 답변: {tgt}\")\n",
    "\n",
    "with open(os.path.join(DIR, 'train.txt'), encoding=\"UTF-8\", mode='w') as f:\n",
    "    for prompt in prompts:\n",
    "        f.write(f\"{prompt}\\n\")\n",
    "\n",
    "# test ########################################\n",
    "prompts = []\n",
    "for text in test_dataset['질문']:\n",
    "    prompts.append(f\"질문: {text} 답변: \")\n",
    "\n",
    "with open(os.path.join(DIR, 'test.txt'), encoding=\"UTF-8\", mode='w') as f:\n",
    "    for prompt in prompts:\n",
    "        f.write(f\"{prompt}\\n\")\n"
   ]
  },
  {
   "cell_type": "code",
   "execution_count": null,
   "metadata": {},
   "outputs": [],
   "source": []
  }
 ],
 "metadata": {
  "kernelspec": {
   "display_name": "base",
   "language": "python",
   "name": "python3"
  },
  "language_info": {
   "codemirror_mode": {
    "name": "ipython",
    "version": 3
   },
   "file_extension": ".py",
   "mimetype": "text/x-python",
   "name": "python",
   "nbconvert_exporter": "python",
   "pygments_lexer": "ipython3",
   "version": "3.10.13"
  }
 },
 "nbformat": 4,
 "nbformat_minor": 2
}
